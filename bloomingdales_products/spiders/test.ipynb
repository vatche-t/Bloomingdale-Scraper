{
 "cells": [
  {
   "cell_type": "code",
   "execution_count": 6,
   "metadata": {},
   "outputs": [],
   "source": [
    "import pandas as pd\n",
    "\n",
    "# Step 1: Read the CSV file\n",
    "file_path = 'data/bloomingdales_products.csv'  # Replace with your CSV file path\n",
    "df = pd.read_csv(file_path)\n",
    "\n",
    "\n"
   ]
  },
  {
   "cell_type": "code",
   "execution_count": 7,
   "metadata": {},
   "outputs": [
    {
     "name": "stdout",
     "output_type": "stream",
     "text": [
      "The brand 'Calvin Klein' appears 322 times in the 'brand' column.\n"
     ]
    }
   ],
   "source": [
    "# Step 2: Specify the brand name you want to search for\n",
    "brand_name = 'Calvin Klein'  # Replace with the specific brand name you're looking for\n",
    "\n",
    "# Step 3: Count how many times the brand appears in the 'brand' column\n",
    "brand_count = df['brand'].str.contains(brand_name, case=False, na=False).sum()\n",
    "\n",
    "# Step 4: Print the result\n",
    "print(f\"The brand '{brand_name}' appears {brand_count} times in the 'brand' column.\")"
   ]
  },
  {
   "cell_type": "code",
   "execution_count": 8,
   "metadata": {},
   "outputs": [
    {
     "name": "stdout",
     "output_type": "stream",
     "text": [
      "Number of empty 'itemurl' entries: 0\n"
     ]
    }
   ],
   "source": [
    "empty_itemurl_count = df['itemurl'].isna().sum() + (df['itemurl'] == '').sum()\n",
    "print(f\"Number of empty 'itemurl' entries: {empty_itemurl_count}\")\n"
   ]
  },
  {
   "cell_type": "code",
   "execution_count": 9,
   "metadata": {},
   "outputs": [
    {
     "name": "stdout",
     "output_type": "stream",
     "text": [
      "Number of empty 'imageurl' entries: 15786\n"
     ]
    }
   ],
   "source": [
    "empty_itemurl_count = df['imageurl'].isna().sum() + (df['imageurl'] == '').sum()\n",
    "print(f\"Number of empty 'imageurl' entries: {empty_itemurl_count}\")\n"
   ]
  }
 ],
 "metadata": {
  "kernelspec": {
   "display_name": "Python 3",
   "language": "python",
   "name": "python3"
  },
  "language_info": {
   "codemirror_mode": {
    "name": "ipython",
    "version": 3
   },
   "file_extension": ".py",
   "mimetype": "text/x-python",
   "name": "python",
   "nbconvert_exporter": "python",
   "pygments_lexer": "ipython3",
   "version": "3.10.11"
  }
 },
 "nbformat": 4,
 "nbformat_minor": 2
}
